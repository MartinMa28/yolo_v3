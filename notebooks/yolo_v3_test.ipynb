{
 "cells": [
  {
   "cell_type": "code",
   "execution_count": 1,
   "metadata": {},
   "outputs": [],
   "source": [
    "import torch\n",
    "import torch.nn as nn\n",
    "import torch.nn.functional as F\n",
    "import numpy as np"
   ]
  },
  {
   "cell_type": "code",
   "execution_count": 2,
   "metadata": {},
   "outputs": [],
   "source": [
    "anchors = [(10, 13), (16, 30), (33, 23)]\n",
    "anchors = torch.FloatTensor(anchors)"
   ]
  },
  {
   "cell_type": "code",
   "execution_count": 7,
   "metadata": {},
   "outputs": [
    {
     "data": {
      "text/plain": [
       "tensor([[[10., 13.],\n",
       "         [16., 30.],\n",
       "         [33., 23.],\n",
       "         [10., 13.],\n",
       "         [16., 30.],\n",
       "         [33., 23.],\n",
       "         [10., 13.],\n",
       "         [16., 30.],\n",
       "         [33., 23.],\n",
       "         [10., 13.],\n",
       "         [16., 30.],\n",
       "         [33., 23.],\n",
       "         [10., 13.],\n",
       "         [16., 30.],\n",
       "         [33., 23.],\n",
       "         [10., 13.],\n",
       "         [16., 30.],\n",
       "         [33., 23.],\n",
       "         [10., 13.],\n",
       "         [16., 30.],\n",
       "         [33., 23.],\n",
       "         [10., 13.],\n",
       "         [16., 30.],\n",
       "         [33., 23.],\n",
       "         [10., 13.],\n",
       "         [16., 30.],\n",
       "         [33., 23.],\n",
       "         [10., 13.],\n",
       "         [16., 30.],\n",
       "         [33., 23.],\n",
       "         [10., 13.],\n",
       "         [16., 30.],\n",
       "         [33., 23.],\n",
       "         [10., 13.],\n",
       "         [16., 30.],\n",
       "         [33., 23.],\n",
       "         [10., 13.],\n",
       "         [16., 30.],\n",
       "         [33., 23.],\n",
       "         [10., 13.],\n",
       "         [16., 30.],\n",
       "         [33., 23.],\n",
       "         [10., 13.],\n",
       "         [16., 30.],\n",
       "         [33., 23.],\n",
       "         [10., 13.],\n",
       "         [16., 30.],\n",
       "         [33., 23.],\n",
       "         [10., 13.],\n",
       "         [16., 30.],\n",
       "         [33., 23.],\n",
       "         [10., 13.],\n",
       "         [16., 30.],\n",
       "         [33., 23.],\n",
       "         [10., 13.],\n",
       "         [16., 30.],\n",
       "         [33., 23.],\n",
       "         [10., 13.],\n",
       "         [16., 30.],\n",
       "         [33., 23.],\n",
       "         [10., 13.],\n",
       "         [16., 30.],\n",
       "         [33., 23.],\n",
       "         [10., 13.],\n",
       "         [16., 30.],\n",
       "         [33., 23.],\n",
       "         [10., 13.],\n",
       "         [16., 30.],\n",
       "         [33., 23.],\n",
       "         [10., 13.],\n",
       "         [16., 30.],\n",
       "         [33., 23.],\n",
       "         [10., 13.],\n",
       "         [16., 30.],\n",
       "         [33., 23.]]])"
      ]
     },
     "execution_count": 7,
     "metadata": {},
     "output_type": "execute_result"
    }
   ],
   "source": [
    "anchors.repeat(5 * 5, 1).unsqueeze(0)"
   ]
  }
 ],
 "metadata": {
  "kernelspec": {
   "display_name": "Python 3",
   "language": "python",
   "name": "python3"
  },
  "language_info": {
   "codemirror_mode": {
    "name": "ipython",
    "version": 3
   },
   "file_extension": ".py",
   "mimetype": "text/x-python",
   "name": "python",
   "nbconvert_exporter": "python",
   "pygments_lexer": "ipython3",
   "version": "3.6.8"
  }
 },
 "nbformat": 4,
 "nbformat_minor": 2
}
